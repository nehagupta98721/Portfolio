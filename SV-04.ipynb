{
 "cells": [
  {
   "cell_type": "markdown",
   "metadata": {},
   "source": [
    "Before you turn this problem in, make sure everything runs as expected. First, **restart the kernel** (in the menubar, select Kernel$\\rightarrow$Restart) and then **run all cells** (in the menubar, select Cell$\\rightarrow$Run All).\n",
    "\n",
    "Make sure you fill in any place that says `YOUR CODE HERE` or \"YOUR ANSWER HERE\", as well as your name below:<br/>\n",
    "**Do not change the name of the file and upload in folder \"d\" on Google Drive**"
   ]
  },
  {
   "cell_type": "code",
   "execution_count": 1,
   "metadata": {},
   "outputs": [],
   "source": [
    "NAME = \"Neha\""
   ]
  },
  {
   "cell_type": "markdown",
   "metadata": {},
   "source": [
    "---"
   ]
  },
  {
   "cell_type": "markdown",
   "metadata": {},
   "source": [
    "## Q1\n",
    "Download **M13 fits** images from this cell, this cell downloads fits files and stores them in image_list"
   ]
  },
  {
   "cell_type": "code",
   "execution_count": 2,
   "metadata": {
    "deletable": false,
    "editable": false,
    "nbgrader": {
     "cell_type": "code",
     "checksum": "363a14f2ece672d749dc8ac9ffad4bad",
     "grade": false,
     "grade_id": "cell-640a308aa7f7d054",
     "locked": true,
     "schema_version": 3,
     "solution": false
    }
   },
   "outputs": [
    {
     "data": {
      "text/plain": [
       "['C:\\\\Users\\\\user\\\\.astropy\\\\cache\\\\download\\\\py3\\\\12441050c51cbbac316d379f0c4ba71a',\n",
       " 'C:\\\\Users\\\\user\\\\.astropy\\\\cache\\\\download\\\\py3\\\\767f6191130dd093b2cd0d9357be416b',\n",
       " 'C:\\\\Users\\\\user\\\\.astropy\\\\cache\\\\download\\\\py3\\\\220b1cb851fc0ade82bed89d4b127de3',\n",
       " 'C:\\\\Users\\\\user\\\\.astropy\\\\cache\\\\download\\\\py3\\\\71137f295cebe59f2aef7eb13b249937',\n",
       " 'C:\\\\Users\\\\user\\\\.astropy\\\\cache\\\\download\\\\py3\\\\6ad287e17c26a897c6819136dca825db']"
      ]
     },
     "execution_count": 2,
     "metadata": {},
     "output_type": "execute_result"
    }
   ],
   "source": [
    "#RUN THIS CODE\n",
    "from astropy.utils.data import download_file\n",
    "base_url = 'http://data.astropy.org/tutorials/FITS-images/M13_blue_{0:04d}.fits'\n",
    "\n",
    "image_list = [download_file(base_url.format(n), cache=True)\n",
    "              for n in range(1, 5+1)]\n",
    "image_list"
   ]
  },
  {
   "cell_type": "markdown",
   "metadata": {
    "deletable": false,
    "editable": false,
    "nbgrader": {
     "cell_type": "markdown",
     "checksum": "77b4049a65e88736d4ce11a14f37d10d",
     "grade": false,
     "grade_id": "cell-ab6149ee07c7b6a4",
     "locked": true,
     "schema_version": 3,
     "solution": false
    }
   },
   "source": [
    "This downloads the images in your laptop to access each image do"
   ]
  },
  {
   "cell_type": "code",
   "execution_count": 3,
   "metadata": {
    "deletable": false,
    "editable": false,
    "nbgrader": {
     "cell_type": "code",
     "checksum": "8d1ed066899a5a387280af932b242f33",
     "grade": false,
     "grade_id": "cell-df142567d56105ee",
     "locked": true,
     "schema_version": 3,
     "solution": false
    }
   },
   "outputs": [
    {
     "data": {
      "text/plain": [
       "[array([[489, 474, 519, ..., 447, 541, 519],\n",
       "        [517, 508, 489, ..., 517, 490, 499],\n",
       "        [500, 453, 518, ..., 537, 514, 537],\n",
       "        ...,\n",
       "        [449, 490, 519, ..., 469, 508, 541],\n",
       "        [500, 521, 514, ..., 502, 478, 549],\n",
       "        [480, 516, 535, ..., 494, 527, 491]], dtype=uint16),\n",
       " array([[494, 529, 549, ..., 492, 535, 560],\n",
       "        [540, 530, 479, ..., 484, 514, 496],\n",
       "        [500, 517, 514, ..., 520, 518, 552],\n",
       "        ...,\n",
       "        [498, 515, 509, ..., 527, 533, 531],\n",
       "        [499, 495, 505, ..., 521, 447, 541],\n",
       "        [513, 541, 522, ..., 522, 521, 472]], dtype=uint16),\n",
       " array([[517, 475, 503, ..., 515, 531, 531],\n",
       "        [521, 434, 489, ..., 575, 484, 499],\n",
       "        [492, 498, 516, ..., 535, 486, 512],\n",
       "        ...,\n",
       "        [504, 506, 515, ..., 486, 538, 518],\n",
       "        [497, 536, 509, ..., 521, 485, 539],\n",
       "        [560, 515, 573, ..., 520, 506, 541]], dtype=uint16),\n",
       " array([[487, 490, 546, ..., 478, 522, 522],\n",
       "        [496, 533, 505, ..., 513, 511, 486],\n",
       "        [551, 516, 509, ..., 478, 498, 530],\n",
       "        ...,\n",
       "        [456, 503, 505, ..., 505, 501, 515],\n",
       "        [302, 476, 524, ..., 528, 476, 533],\n",
       "        [591, 473, 514, ..., 527, 507, 490]], dtype=uint16),\n",
       " array([[505, 480, 514, ..., 490, 526, 518],\n",
       "        [518, 513, 498, ..., 494, 498, 498],\n",
       "        [526, 520, 509, ..., 492, 489, 529],\n",
       "        ...,\n",
       "        [466, 451, 496, ..., 516, 471, 514],\n",
       "        [532, 511, 489, ..., 498, 503, 500],\n",
       "        [509, 488, 501, ..., 532, 558, 511]], dtype=uint16)]"
      ]
     },
     "execution_count": 3,
     "metadata": {},
     "output_type": "execute_result"
    }
   ],
   "source": [
    "from astropy.io import fits\n",
    "image_concat = [fits.getdata(image) for image in image_list]\n",
    "image_concat"
   ]
  },
  {
   "cell_type": "markdown",
   "metadata": {},
   "source": [
    "## Q1\n",
    "Now return the following values as a tuple, complete `f1()`\n",
    "    1. Mean of the stacked image\n",
    "    2. Absolute difference between Max of the stacked image and Max of the entire 5 images\n",
    "<br>Stack the images using mean"
   ]
  },
  {
   "cell_type": "code",
   "execution_count": 4,
   "metadata": {
    "deletable": false,
    "nbgrader": {
     "cell_type": "code",
     "checksum": "412ec8b49fbc4007b4141d97e22434d9",
     "grade": false,
     "grade_id": "cell-6a8bec31f6f1dc4c",
     "locked": false,
     "schema_version": 3,
     "solution": true
    }
   },
   "outputs": [
    {
     "ename": "IndentationError",
     "evalue": "expected an indented block (<ipython-input-4-c9724e51dd78>, line 3)",
     "output_type": "error",
     "traceback": [
      "\u001b[1;36m  File \u001b[1;32m\"<ipython-input-4-c9724e51dd78>\"\u001b[1;36m, line \u001b[1;32m3\u001b[0m\n\u001b[1;33m    f1()\u001b[0m\n\u001b[1;37m    ^\u001b[0m\n\u001b[1;31mIndentationError\u001b[0m\u001b[1;31m:\u001b[0m expected an indented block\n"
     ]
    }
   ],
   "source": [
    "def f1():\n",
    "    # YOUR CODE BELOW\n",
    "f1()"
   ]
  },
  {
   "cell_type": "code",
   "execution_count": null,
   "metadata": {
    "deletable": false,
    "editable": false,
    "nbgrader": {
     "cell_type": "code",
     "checksum": "26d32763c2a14969488e165f8059c6ab",
     "grade": true,
     "grade_id": "cell-0023af634058eeca",
     "locked": true,
     "points": 1,
     "schema_version": 3,
     "solution": false
    }
   },
   "outputs": [],
   "source": []
  },
  {
   "cell_type": "markdown",
   "metadata": {},
   "source": [
    "For this question, download the folder from <a href=\"https://drive.google.com/drive/folders/1wtyBjrxM2SjtM5yAWn5FxcLvzATp4tjG?usp=sharing\">Here</a><br> and then do **EXTRACT HERE** <br>\n",
    "Make sure the below cell runs without error, else you will be given 0<br>\n",
    "**Make sure that this notebook and the extracted files are in the SAME FOLDER**"
   ]
  },
  {
   "cell_type": "code",
   "execution_count": null,
   "metadata": {
    "deletable": false,
    "editable": false,
    "nbgrader": {
     "cell_type": "code",
     "checksum": "30d81862d38d1b17633086b4e0373c32",
     "grade": false,
     "grade_id": "cell-48d7be1ea52d101b",
     "locked": true,
     "schema_version": 3,
     "solution": false
    }
   },
   "outputs": [],
   "source": [
    "base=\"pulsar_100/{0:04d}.fits\"\n",
    "image_concat2 = [fits.getdata(base.format(n), cache=True)\n",
    "              for n in range(0, 100)]\n",
    "image_concat2"
   ]
  },
  {
   "cell_type": "markdown",
   "metadata": {},
   "source": [
    "## Q2\n",
    "Return the **median value of the stacked images upto 6 decimal digits and the index at which the max of the stacked image** is found as a **STRING**<br><br>\n",
    "*Format: \"{median_value 6 decimal},{index}\"*<br>\n",
    "```\n",
    "    Eg: if median_value is 0.006461999 and index is 6461\n",
    "        should return\n",
    "        '0.006461,6461'\n",
    "```\n",
    "Stack the images using median"
   ]
  },
  {
   "cell_type": "code",
   "execution_count": null,
   "metadata": {
    "deletable": false,
    "nbgrader": {
     "cell_type": "code",
     "checksum": "2341618fbfc3bd0d460d6b76c4bb0aea",
     "grade": false,
     "grade_id": "cell-7c26dcd9d39fc0a8",
     "locked": false,
     "schema_version": 3,
     "solution": true
    }
   },
   "outputs": [],
   "source": [
    "def f2():\n",
    "    # YOUR CODE BELOW\n",
    "f2()"
   ]
  },
  {
   "cell_type": "code",
   "execution_count": null,
   "metadata": {
    "deletable": false,
    "editable": false,
    "nbgrader": {
     "cell_type": "code",
     "checksum": "8ddd9b9395e5a73dab673c4f22c67474",
     "grade": true,
     "grade_id": "cell-c35869f5fd0beadd",
     "locked": true,
     "points": 1,
     "schema_version": 3,
     "solution": false
    }
   },
   "outputs": [],
   "source": []
  },
  {
   "cell_type": "markdown",
   "metadata": {},
   "source": [
    "## Q3\n",
    "Why is median preferred over mean in case of pulsar stacking? "
   ]
  },
  {
   "cell_type": "code",
   "execution_count": null,
   "metadata": {
    "deletable": false,
    "nbgrader": {
     "cell_type": "code",
     "checksum": "5f9cb489dd51be581ead7675a8523e5f",
     "grade": true,
     "grade_id": "cell-4b1f65cafe4b5ce6",
     "locked": false,
     "points": 1,
     "schema_version": 3,
     "solution": true
    }
   },
   "outputs": [],
   "source": [
    "# YOUR CODE BELOW"
   ]
  },
  {
   "cell_type": "markdown",
   "metadata": {},
   "source": [
    "## Q4\n",
    "What difference can you see between an image that is originally captured in ultraviolet and viewed in blue filter vs an image that is originally captured in infrared and viewed in blue filter.<br>\n",
    "Use any NASA image for this"
   ]
  },
  {
   "cell_type": "code",
   "execution_count": null,
   "metadata": {
    "deletable": false,
    "nbgrader": {
     "cell_type": "code",
     "checksum": "ebe615c8c154ac46b76a3085e56b2e06",
     "grade": true,
     "grade_id": "cell-119b8ba219e5eb0a",
     "locked": false,
     "points": 1,
     "schema_version": 3,
     "solution": true
    }
   },
   "outputs": [],
   "source": [
    "# YOUR CODE BELOW"
   ]
  }
 ],
 "metadata": {
  "kernelspec": {
   "display_name": "Python 3",
   "language": "python",
   "name": "python3"
  },
  "language_info": {
   "codemirror_mode": {
    "name": "ipython",
    "version": 3
   },
   "file_extension": ".py",
   "mimetype": "text/x-python",
   "name": "python",
   "nbconvert_exporter": "python",
   "pygments_lexer": "ipython3",
   "version": "3.8.3"
  }
 },
 "nbformat": 4,
 "nbformat_minor": 2
}
