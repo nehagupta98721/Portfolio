{
 "cells": [
  {
   "cell_type": "markdown",
   "metadata": {},
   "source": [
    "Before you turn this problem in, make sure everything runs as expected. First, **restart the kernel** (in the menubar, select Kernel$\\rightarrow$Restart) and then **run all cells** (in the menubar, select Cell$\\rightarrow$Run All).\n",
    "\n",
    "Make sure you fill in any place that says `YOUR CODE HERE` or \"YOUR ANSWER HERE\", as well as your name below:<br/>\n",
    "**Do not change the name of the file and upload in folder \"c\" on Google Drive**"
   ]
  },
  {
   "cell_type": "code",
   "execution_count": null,
   "metadata": {},
   "outputs": [],
   "source": [
    "NAME = \"Neha\""
   ]
  },
  {
   "cell_type": "markdown",
   "metadata": {},
   "source": [
    "---"
   ]
  },
  {
   "cell_type": "markdown",
   "metadata": {},
   "source": [
    "# Assignment 3"
   ]
  },
  {
   "cell_type": "markdown",
   "metadata": {},
   "source": [
    "Create a class `Planet` which takes two variables while constructing an object i.e. `radius (in meters)` and `rotation_period (in seconds)` <br>\n",
    "Now implement 4 methods\n",
    "```\n",
    "Q1. surface_area\n",
    "Q2. rotation_frequency\n",
    "Q3. A function such that it checks for equality between two planets (i.e. planet1 == planet2)\n",
    "```\n",
    "\\begin{equation*}\n",
    "{rotation\\_frequency}=\\frac{2{\\pi}}{rotation\\_period}\n",
    "\\end{equation*}\n",
    "<br>For 4th read <a href=\"https://docs.python.org/3/reference/datamodel.html\">This</a>"
   ]
  },
  {
   "cell_type": "code",
   "execution_count": 18,
   "metadata": {
    "deletable": false,
    "nbgrader": {
     "cell_type": "code",
     "checksum": "729f87c98e5ad1218f386d5f0d1b2378",
     "grade": false,
     "grade_id": "cell-6d5c9250b66244b0",
     "locked": false,
     "schema_version": 3,
     "solution": true
    }
   },
   "outputs": [],
   "source": [
    "# YOUR CODE BELOW\n",
    "class Planet:\n",
    "    \n",
    "    pi = 3.141592653589793\n",
    "    \n",
    "    def __init__ (self, radius, rotation_period):\n",
    "        self.radius = radius\n",
    "        self.r_period = rotation_period\n",
    "        \n",
    "    def surface_area(self):\n",
    "        return 4*self.pi*(self.radius**2)\n",
    "    \n",
    "    def rotation_frequency(self):\n",
    "        return 2*self.pi/self.r_period\n",
    "    \n",
    "    def __eq__ (self, other_planet):\n",
    "        if(self.radius == other_planet.radius  and  self.r_period == other_planet.r_period):\n",
    "            return True\n",
    "        else:\n",
    "            return False"
   ]
  },
  {
   "cell_type": "code",
   "execution_count": 19,
   "metadata": {
    "deletable": false,
    "editable": false,
    "nbgrader": {
     "cell_type": "code",
     "checksum": "fc7d8574dc90f754ba741c061149bfe1",
     "grade": true,
     "grade_id": "cell-561ce6b19c552aff",
     "locked": true,
     "points": 1,
     "schema_version": 3,
     "solution": false
    }
   },
   "outputs": [],
   "source": [
    "#This cell should pass with no errors\n",
    "earth = Planet(6.3781e6, 86400)\n",
    "jupyter = Planet(69.911e6, 9.925*60*60)\n",
    "import pytest\n",
    "assert earth.surface_area() == pytest.approx(5.112015e14)\n",
    "assert jupyter.surface_area() == pytest.approx(6.14187e16)"
   ]
  },
  {
   "cell_type": "code",
   "execution_count": 20,
   "metadata": {
    "deletable": false,
    "editable": false,
    "nbgrader": {
     "cell_type": "code",
     "checksum": "57a20cf38a485c55ea528c29f439ad5a",
     "grade": true,
     "grade_id": "cell-1e483767c073a280",
     "locked": true,
     "points": 1,
     "schema_version": 3,
     "solution": false
    }
   },
   "outputs": [],
   "source": [
    "assert earth.rotation_frequency() == pytest.approx(7.2722e-5)\n",
    "assert jupyter.rotation_frequency() == pytest.approx(1.758518e-4)"
   ]
  },
  {
   "cell_type": "code",
   "execution_count": 21,
   "metadata": {
    "deletable": false,
    "editable": false,
    "nbgrader": {
     "cell_type": "code",
     "checksum": "cb56540ea65486041be103a4bb495b60",
     "grade": true,
     "grade_id": "cell-d872b8d55154e343",
     "locked": true,
     "points": 1,
     "schema_version": 3,
     "solution": false
    }
   },
   "outputs": [],
   "source": [
    "earth2 = Planet(6.3781e6, 86400)\n",
    "assert earth == earth2"
   ]
  },
  {
   "cell_type": "markdown",
   "metadata": {
    "deletable": false,
    "editable": false,
    "nbgrader": {
     "cell_type": "markdown",
     "checksum": "8f048dc77f37b28fe55bdbda6d1b84bd",
     "grade": false,
     "grade_id": "cell-64f85201fe09bf52",
     "locked": true,
     "schema_version": 3,
     "solution": false
    }
   },
   "source": [
    "## Q4\n",
    "Now a catastrophe happened and the value of &pi; got changed to 4.5 <br>\n",
    "           Find the new surface area. <br>\n",
    "           **This catastrophe must effect every planet.**"
   ]
  },
  {
   "cell_type": "code",
   "execution_count": 22,
   "metadata": {
    "deletable": false,
    "nbgrader": {
     "cell_type": "code",
     "checksum": "b63676755fbdfaada8df6b9663d9bfe0",
     "grade": false,
     "grade_id": "cell-78a0c5fcb8f34ab9",
     "locked": false,
     "schema_version": 3,
     "solution": true
    }
   },
   "outputs": [],
   "source": [
    "# YOUR CODE BELOW\n",
    "Planet.pi = 4.5"
   ]
  },
  {
   "cell_type": "code",
   "execution_count": 23,
   "metadata": {
    "deletable": false,
    "editable": false,
    "nbgrader": {
     "cell_type": "code",
     "checksum": "57f2715c8f14ea6e23386e8075826373",
     "grade": true,
     "grade_id": "cell-5354b684fdf49890",
     "locked": true,
     "points": 1,
     "schema_version": 3,
     "solution": false
    }
   },
   "outputs": [],
   "source": [
    "assert earth.surface_area() == 732242872980000.0\n",
    "assert jupyter.surface_area() == 87975862578000000"
   ]
  },
  {
   "cell_type": "markdown",
   "metadata": {},
   "source": [
    "## Q5\n",
    "Return a 3x3 matrix with values ranging from *start* to *stop* both inclusive<br>\n",
    "**Note: stop-start would always be 8**<br>\n",
    "Complete `f1()`"
   ]
  },
  {
   "cell_type": "code",
   "execution_count": 44,
   "metadata": {
    "deletable": false,
    "nbgrader": {
     "cell_type": "code",
     "checksum": "afeb89882d5bb9b4d66e3eb87ef43a07",
     "grade": false,
     "grade_id": "cell-4bbfc9749c7fc9d7",
     "locked": false,
     "schema_version": 3,
     "solution": true
    }
   },
   "outputs": [],
   "source": [
    "import numpy as np\n",
    "def f1(start,stop):\n",
    "    # YOUR CODE BELOW\n",
    "    f = np.arange(start,stop+1)\n",
    "    f = f.reshape(3,3)\n",
    "    return f\n",
    "    pass"
   ]
  },
  {
   "cell_type": "code",
   "execution_count": 45,
   "metadata": {
    "deletable": false,
    "editable": false,
    "nbgrader": {
     "cell_type": "code",
     "checksum": "9acc8ed1ceced881f31a61f83a28a884",
     "grade": true,
     "grade_id": "cell-826ec4211109b15c",
     "locked": true,
     "points": 1,
     "schema_version": 3,
     "solution": false
    }
   },
   "outputs": [],
   "source": [
    "#Tests\n",
    "import numpy as np\n",
    "assert np.array_equal(f1(2,10),np.array([[2,3,4],[5,6,7],[8,9,10]]))"
   ]
  },
  {
   "cell_type": "markdown",
   "metadata": {},
   "source": [
    "## Q6\n",
    "A 2D array `m` is given to the function, return the last column only.\n",
    "Complete `f2()`"
   ]
  },
  {
   "cell_type": "code",
   "execution_count": 55,
   "metadata": {
    "deletable": false,
    "nbgrader": {
     "cell_type": "code",
     "checksum": "8de5724073a7b50bcd0fd45d5093f12d",
     "grade": false,
     "grade_id": "cell-c9c4d6b2904b8d78",
     "locked": false,
     "schema_version": 3,
     "solution": true
    }
   },
   "outputs": [],
   "source": [
    "def f2(m):\n",
    "    # YOUR CODE BELOW\n",
    "    dim = np.shape(m)\n",
    "    ncol=dim[1]-1\n",
    "    return m[:,ncol]\n"
   ]
  },
  {
   "cell_type": "code",
   "execution_count": 56,
   "metadata": {
    "deletable": false,
    "editable": false,
    "nbgrader": {
     "cell_type": "code",
     "checksum": "e69a6dd40533e3079a2143ae079da6d6",
     "grade": true,
     "grade_id": "cell-ad52563149a6d0ad",
     "locked": true,
     "points": 1,
     "schema_version": 3,
     "solution": false
    }
   },
   "outputs": [],
   "source": [
    "assert np.array_equal(f2(np.array([[1, 2, 3], [4, 5, 6], [7, 8, 9]])),np.array([3, 6, 9]))\n",
    "assert np.array_equal(f2(np.array([[11, 21, 31], [84, 75, 56], [97, 98, 99]])),np.array([31, 56, 99]))"
   ]
  },
  {
   "cell_type": "code",
   "execution_count": null,
   "metadata": {},
   "outputs": [],
   "source": []
  }
 ],
 "metadata": {
  "kernelspec": {
   "display_name": "Python 3",
   "language": "python",
   "name": "python3"
  },
  "language_info": {
   "codemirror_mode": {
    "name": "ipython",
    "version": 3
   },
   "file_extension": ".py",
   "mimetype": "text/x-python",
   "name": "python",
   "nbconvert_exporter": "python",
   "pygments_lexer": "ipython3",
   "version": "3.8.3"
  }
 },
 "nbformat": 4,
 "nbformat_minor": 2
}
