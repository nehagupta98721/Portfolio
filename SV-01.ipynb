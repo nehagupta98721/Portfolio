{
 "cells": [
  {
   "cell_type": "markdown",
   "metadata": {},
   "source": [
    "Before you turn this problem in, make sure everything runs as expected. First, **restart the kernel** (in the menubar, select Kernel$\\rightarrow$Restart) and then **run all cells** (in the menubar, select Cell$\\rightarrow$Run All).\n",
    "\n",
    "Make sure you fill in any place that says `YOUR CODE HERE` or \"YOUR ANSWER HERE\", as well as your name below:<br/>\n",
    "**Do not change the name of the file and upload in folder \"a\" on Google Drive**"
   ]
  },
  {
   "cell_type": "code",
   "execution_count": 5,
   "metadata": {},
   "outputs": [],
   "source": [
    "NAME = \"\""
   ]
  },
  {
   "cell_type": "markdown",
   "metadata": {},
   "source": [
    "---"
   ]
  },
  {
   "cell_type": "markdown",
   "metadata": {
    "deletable": false,
    "editable": false,
    "nbgrader": {
     "cell_type": "markdown",
     "checksum": "df57770ec1ff4d6b0093f9ff0f8c3425",
     "grade": false,
     "grade_id": "cell-1ea54cd06f1a2072",
     "locked": true,
     "schema_version": 3,
     "solution": false
    }
   },
   "source": [
    "# Assignment 1"
   ]
  },
  {
   "cell_type": "markdown",
   "metadata": {
    "deletable": false,
    "editable": false,
    "nbgrader": {
     "cell_type": "markdown",
     "checksum": "050d0f80ee336137b7114eb11e6f9b60",
     "grade": false,
     "grade_id": "cell-e27a70f49ba12e78",
     "locked": true,
     "schema_version": 3,
     "solution": false
    }
   },
   "source": [
    "1. Find out the 5th root of 521762160198368 and store in **ans1**"
   ]
  },
  {
   "cell_type": "code",
   "execution_count": 6,
   "metadata": {
    "deletable": false,
    "nbgrader": {
     "cell_type": "code",
     "checksum": "04dffda864d75c6e888b50449d014f4a",
     "grade": false,
     "grade_id": "cell-9eeb501dabbfddd9",
     "locked": false,
     "schema_version": 3,
     "solution": true
    }
   },
   "outputs": [
    {
     "name": "stdout",
     "output_type": "stream",
     "text": [
      "12\n"
     ]
    }
   ],
   "source": [
    "ans1=None\n",
    "# YOUR CODE BELOW"
   ]
  },
  {
   "cell_type": "markdown",
   "metadata": {
    "deletable": false,
    "editable": false,
    "nbgrader": {
     "cell_type": "markdown",
     "checksum": "7a4645ad0a0146cbeac27c40fa251acb",
     "grade": false,
     "grade_id": "cell-6b4198ea35fc1cbc",
     "locked": true,
     "schema_version": 3,
     "solution": false
    }
   },
   "source": [
    "2. Find out the **6th letter** of **s** from starting and **6th letter from end** and store in **ans2** and **ans3** respectively"
   ]
  },
  {
   "cell_type": "code",
   "execution_count": null,
   "metadata": {
    "deletable": false,
    "nbgrader": {
     "cell_type": "code",
     "checksum": "a8f2a4e212c8d72f022d0dc2930b745d",
     "grade": false,
     "grade_id": "cell-4abc5771c37b5a42",
     "locked": false,
     "schema_version": 3,
     "solution": true
    }
   },
   "outputs": [],
   "source": [
    "s = \"Spaceonova where limit tends to infinity\"\n",
    "ans2=None\n",
    "ans3=None\n",
    "# YOUR CODE BELOW"
   ]
  },
  {
   "cell_type": "markdown",
   "metadata": {
    "deletable": false,
    "editable": false,
    "nbgrader": {
     "cell_type": "markdown",
     "checksum": "8be3a1195432afcde434d38e20746fb3",
     "grade": false,
     "grade_id": "cell-fd1d8706c6ba7f45",
     "locked": true,
     "schema_version": 3,
     "solution": false
    }
   },
   "source": [
    "3. HackTheBox Foundation came up with an interesting thing, You are given a string *encoded* and it is coded as follows:\n",
    "\n",
    "    *An original string ans4 was taken and every character in 'ans4' is suffixed (added in end) 'c' number of random chars and stored in a variable 'encoded'* <br><br>\n",
    "    **Find ans4**<br><br>\n",
    "    *For example*<br>\n",
    "    *Let ans4=\"abc\" and let c=2 and let us denote a random character by x, then*<br>\n",
    "    *encoded becomes \"axxbxxcxx\"*<br>\n",
    "    Note 'c' is a constant number and a space can also be considered as a random character. \n",
    "    <div style=\"text-align: right\">-- 2 points </div>"
   ]
  },
  {
   "cell_type": "code",
   "execution_count": null,
   "metadata": {
    "deletable": false,
    "nbgrader": {
     "cell_type": "code",
     "checksum": "5b84ff6f4f36e15df9fa376fbb9004c4",
     "grade": false,
     "grade_id": "cell-48cbd7a4f01a3b16",
     "locked": false,
     "schema_version": 3,
     "solution": true
    }
   },
   "outputs": [],
   "source": [
    "p='clbzwaolcnmonwy pbggrx rrpbyqmaxheo twhqxzsyitzf cjlxnyoqbpso urbtupvtcs cfhdodmkyjwim fuddkbhmr soufbiqvjhetgfume'\n",
    "ans4=None\n",
    "# YOUR CODE BELOW"
   ]
  },
  {
   "cell_type": "markdown",
   "metadata": {
    "deletable": false,
    "editable": false,
    "nbgrader": {
     "cell_type": "markdown",
     "checksum": "2964e9f68f5d136850534636960cbde8",
     "grade": false,
     "grade_id": "cell-62e3087ad7f84c6d",
     "locked": true,
     "schema_version": 3,
     "solution": false
    }
   },
   "source": [
    "4. You are given two lists x and y. Sort x in ascending order and sort y in descending order. Then store the concatenation in **ans5**"
   ]
  },
  {
   "cell_type": "code",
   "execution_count": null,
   "metadata": {
    "deletable": false,
    "nbgrader": {
     "cell_type": "code",
     "checksum": "27de03dddcd7d389b68616cae1eb4393",
     "grade": false,
     "grade_id": "cell-3a8f847b80a03375",
     "locked": false,
     "schema_version": 3,
     "solution": true
    }
   },
   "outputs": [],
   "source": [
    "x=[3,5,1,9,7,4]\n",
    "y=['limit','tends','to','infinity']\n",
    "ans5=None\n",
    "# YOUR CODE BELOW"
   ]
  },
  {
   "cell_type": "markdown",
   "metadata": {
    "deletable": false,
    "editable": false,
    "nbgrader": {
     "cell_type": "markdown",
     "checksum": "b9ddb907b9c9d2044c171d8d1ca4cc9f",
     "grade": false,
     "grade_id": "cell-a795bb5c4e557dd2",
     "locked": true,
     "schema_version": 3,
     "solution": false
    }
   },
   "source": [
    "5. You are given a list p.<br>\n",
    "    Change 3<sup>rd</sup> element in p to <code>rock</code>.<br>\n",
    "    Add <code>boss</code> in the end of list.<br>\n",
    "    Add another element <code>don't</code> after <code>you</code><br>\n",
    "    And store in **ans6**"
   ]
  },
  {
   "cell_type": "code",
   "execution_count": null,
   "metadata": {
    "deletable": false,
    "nbgrader": {
     "cell_type": "code",
     "checksum": "d64952c35bf8e2da60fce510572f3b94",
     "grade": false,
     "grade_id": "cell-84b485aaaefe1f4e",
     "locked": false,
     "schema_version": 3,
     "solution": true
    }
   },
   "outputs": [],
   "source": [
    "ans6=None\n",
    "p=['you','definitely','too','inside','of me']\n",
    "# YOUR CODE BELOW"
   ]
  },
  {
   "cell_type": "markdown",
   "metadata": {
    "deletable": false,
    "editable": false,
    "nbgrader": {
     "cell_type": "markdown",
     "checksum": "7ca5e959c221ec04ee7e8ed92ab8810a",
     "grade": false,
     "grade_id": "cell-273c05a6032c863a",
     "locked": true,
     "schema_version": 3,
     "solution": false
    }
   },
   "source": [
    "<div style=\"text-align: center\"><i>---------Don't touch the cells below---------</i></div>"
   ]
  },
  {
   "cell_type": "code",
   "execution_count": null,
   "metadata": {
    "deletable": false,
    "editable": false,
    "nbgrader": {
     "cell_type": "code",
     "checksum": "e9037562d5b13fa29a626149955e180e",
     "grade": true,
     "grade_id": "cell-51988dd3fa2b5aec",
     "locked": true,
     "points": 1,
     "schema_version": 3,
     "solution": false
    }
   },
   "outputs": [],
   "source": []
  },
  {
   "cell_type": "code",
   "execution_count": null,
   "metadata": {
    "deletable": false,
    "editable": false,
    "nbgrader": {
     "cell_type": "code",
     "checksum": "2d2ba07c34c8e47021bdb109442faf26",
     "grade": true,
     "grade_id": "cell-d825f59700d9de90",
     "locked": true,
     "points": 1,
     "schema_version": 3,
     "solution": false
    }
   },
   "outputs": [],
   "source": []
  },
  {
   "cell_type": "code",
   "execution_count": null,
   "metadata": {
    "deletable": false,
    "editable": false,
    "nbgrader": {
     "cell_type": "code",
     "checksum": "d8b4bf8537cc88ec385d0f4473989eea",
     "grade": true,
     "grade_id": "cell-40bea33b6378e714",
     "locked": true,
     "points": 2,
     "schema_version": 3,
     "solution": false
    }
   },
   "outputs": [],
   "source": []
  },
  {
   "cell_type": "code",
   "execution_count": null,
   "metadata": {
    "deletable": false,
    "editable": false,
    "nbgrader": {
     "cell_type": "code",
     "checksum": "44b60b520743c65b9cce1f8af431997c",
     "grade": true,
     "grade_id": "cell-f07e953acb720b98",
     "locked": true,
     "points": 1,
     "schema_version": 3,
     "solution": false
    }
   },
   "outputs": [],
   "source": []
  },
  {
   "cell_type": "code",
   "execution_count": null,
   "metadata": {
    "deletable": false,
    "editable": false,
    "nbgrader": {
     "cell_type": "code",
     "checksum": "434e1e0ff408db50c24ebf12cec181c0",
     "grade": true,
     "grade_id": "cell-0aa5080349f69114",
     "locked": true,
     "points": 1,
     "schema_version": 3,
     "solution": false
    }
   },
   "outputs": [],
   "source": []
  }
 ],
 "metadata": {
  "kernelspec": {
   "display_name": "Python 3",
   "language": "python",
   "name": "python3"
  },
  "language_info": {
   "codemirror_mode": {
    "name": "ipython",
    "version": 3
   },
   "file_extension": ".py",
   "mimetype": "text/x-python",
   "name": "python",
   "nbconvert_exporter": "python",
   "pygments_lexer": "ipython3",
   "version": "3.7.3"
  }
 },
 "nbformat": 4,
 "nbformat_minor": 4
}
