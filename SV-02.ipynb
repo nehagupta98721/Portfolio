{
 "cells": [
  {
   "cell_type": "markdown",
   "metadata": {},
   "source": [
    "Before you turn this problem in, make sure everything runs as expected. First, **restart the kernel** (in the menubar, select Kernel$\\rightarrow$Restart) and then **run all cells** (in the menubar, select Cell$\\rightarrow$Run All).\n",
    "\n",
    "Make sure you fill in any place that says `YOUR CODE HERE` or \"YOUR ANSWER HERE\", as well as your name below:<br/>\n",
    "**Do not change the name of the file and upload in folder \"b\" on Google Drive**"
   ]
  },
  {
   "cell_type": "code",
   "execution_count": 7,
   "metadata": {},
   "outputs": [],
   "source": [
    "NAME = \"Neha\""
   ]
  },
  {
   "cell_type": "markdown",
   "metadata": {},
   "source": [
    "---"
   ]
  },
  {
   "cell_type": "markdown",
   "metadata": {
    "deletable": false,
    "editable": false,
    "nbgrader": {
     "cell_type": "markdown",
     "checksum": "320a0f1232b8a6c4868ca6c727e550fe",
     "grade": false,
     "grade_id": "cell-5da2ed4f261cc2ad",
     "locked": true,
     "schema_version": 3,
     "solution": false
    }
   },
   "source": [
    "# Assignment 2"
   ]
  },
  {
   "cell_type": "markdown",
   "metadata": {},
   "source": [
    "## Q1\n",
    "Given a number *n*, and a function ```f1()```, you must complete the function to `return` a list from [1,n]"
   ]
  },
  {
   "cell_type": "code",
   "execution_count": 8,
   "metadata": {
    "deletable": false,
    "nbgrader": {
     "cell_type": "code",
     "checksum": "2875969cc2c9985e4822dbe29b4738f9",
     "grade": false,
     "grade_id": "cell-6d5c9250b66244b0",
     "locked": false,
     "schema_version": 3,
     "solution": true
    }
   },
   "outputs": [],
   "source": [
    "def f1(n):\n",
    "    # YOUR CODE BELOW\n",
    "    myList = []\n",
    "    for i in range(1,n+1):\n",
    "        myList.append(i)\n",
    "    return myList\n",
    "    pass"
   ]
  },
  {
   "cell_type": "code",
   "execution_count": 9,
   "metadata": {
    "deletable": false,
    "editable": false,
    "nbgrader": {
     "cell_type": "code",
     "checksum": "5c4226939ec138bf4a50bd6b4610df50",
     "grade": true,
     "grade_id": "cell-561ce6b19c552aff",
     "locked": true,
     "points": 1,
     "schema_version": 3,
     "solution": false
    }
   },
   "outputs": [],
   "source": [
    "#Tests\n",
    "assert f1(2)==[1,2]\n",
    "assert f1(3)==[1,2,3]"
   ]
  },
  {
   "cell_type": "markdown",
   "metadata": {},
   "source": [
    "## Q2\n",
    "Write a function f2(), which checks whether a number n is prime or not, it must return ```True``` if prime, else ```False``` if not a prime. <br>Note: 1 is considered to be Non-Prime"
   ]
  },
  {
   "cell_type": "code",
   "execution_count": 10,
   "metadata": {
    "deletable": false,
    "nbgrader": {
     "cell_type": "code",
     "checksum": "3080da4b1366ff7678edb9fa221ee0af",
     "grade": false,
     "grade_id": "cell-4bbfc9749c7fc9d7",
     "locked": false,
     "schema_version": 3,
     "solution": true
    }
   },
   "outputs": [],
   "source": [
    "def f2(n):\n",
    "    # YOUR CODE BELOW\n",
    "    if(n==1):\n",
    "        return False\n",
    "    if(n==2):\n",
    "        return True\n",
    "    m=n//2\n",
    "    for i in range(2,m+1):\n",
    "        if(n%i==0):\n",
    "            return False\n",
    "        else:\n",
    "            return True\n",
    "    pass"
   ]
  },
  {
   "cell_type": "code",
   "execution_count": 11,
   "metadata": {
    "deletable": false,
    "editable": false,
    "nbgrader": {
     "cell_type": "code",
     "checksum": "d924a3da91e347d4bf5744c5a194dbb9",
     "grade": true,
     "grade_id": "cell-826ec4211109b15c",
     "locked": true,
     "points": 1,
     "schema_version": 3,
     "solution": false
    }
   },
   "outputs": [],
   "source": [
    "#Tests\n",
    "assert f2(2)==True\n",
    "assert f2(4)==False"
   ]
  },
  {
   "cell_type": "markdown",
   "metadata": {},
   "source": [
    "## Q3\n",
    "HackTheBox never gets tired of encoding and decoding strings, here is another question, this one is a little straight forward <br><br> *The string was splitted into a list such that every char was an element in list, then some random chars were added in the beginning and in the end such that the original character stayed in the middle* <br><br>\n",
    "You are given a function *f3*() and the list *l*, `return` the original string\n",
    "\n",
    "<br><code>Ex1: if the list is ['abc','pkonh','aqwetmkoi'], then the middle char of each element is 'b','o','t' repectively hence the original string is \"bot\"</code>"
   ]
  },
  {
   "cell_type": "code",
   "execution_count": 12,
   "metadata": {
    "deletable": false,
    "nbgrader": {
     "cell_type": "code",
     "checksum": "07790fdfbb8db0d974e96ba87f9cd13b",
     "grade": false,
     "grade_id": "cell-61aba2b1b33f8ef7",
     "locked": false,
     "schema_version": 3,
     "solution": true
    }
   },
   "outputs": [],
   "source": [
    "def f3(l):\n",
    "    # YOUR CODE BELOW\n",
    "    s=''\n",
    "    for i in l:\n",
    "        s+=i[(len(i)//2)]\n",
    "    return s\n",
    "    pass"
   ]
  },
  {
   "cell_type": "code",
   "execution_count": 13,
   "metadata": {
    "deletable": false,
    "editable": false,
    "nbgrader": {
     "cell_type": "code",
     "checksum": "30b5dbdd9f10e2adac34497ed0f01449",
     "grade": true,
     "grade_id": "cell-6240053ada5a86d4",
     "locked": true,
     "points": 1,
     "schema_version": 3,
     "solution": false
    }
   },
   "outputs": [],
   "source": [
    "#Tests\n",
    "assert f3(['abc','pkonh','aqwetmkoi'])==\"bot\"\n",
    "assert f3(['abc','pkonh','o','pkp'])==\"book\""
   ]
  },
  {
   "cell_type": "markdown",
   "metadata": {
    "deletable": false,
    "editable": false,
    "nbgrader": {
     "cell_type": "markdown",
     "checksum": "9b5987f5b5e68a42dbab7f65e7747236",
     "grade": false,
     "grade_id": "cell-45f9eb18f8d2c60b",
     "locked": true,
     "schema_version": 3,
     "solution": false
    }
   },
   "source": [
    "## Q4\n",
    "This is an interesting question, you are given a string `s` all in lower case<br>\n",
    "Make a dictionary storing the frequency of each letter in the string<br>\n",
    "Complete `f4()` and **return** the dictionary<br>\n",
    "*Eg:*<br>\n",
    "*If s=\"abc\"<br>\n",
    "d={'a':1,'b':2,'c':3}*\n",
    "<br>And so on"
   ]
  },
  {
   "cell_type": "code",
   "execution_count": 14,
   "metadata": {
    "deletable": false,
    "nbgrader": {
     "cell_type": "code",
     "checksum": "7faf37077d99955261e2c5689d4728c4",
     "grade": false,
     "grade_id": "cell-847c586267ef5a2b",
     "locked": false,
     "schema_version": 3,
     "solution": true
    }
   },
   "outputs": [],
   "source": [
    "def f4(s):\n",
    "    # YOUR CODE BELOW\n",
    "    l=list(s)\n",
    "    sl=set(l)\n",
    "    d={}\n",
    "    \n",
    "    for letter in sorted(sl):\n",
    "        d[letter]=l.count(letter)\n",
    "    return d\n",
    "    pass"
   ]
  },
  {
   "cell_type": "code",
   "execution_count": 15,
   "metadata": {
    "deletable": false,
    "editable": false,
    "nbgrader": {
     "cell_type": "code",
     "checksum": "5e529e167ae4e92532c189f9721a667f",
     "grade": true,
     "grade_id": "cell-a2473c415456b7d7",
     "locked": true,
     "points": 1,
     "schema_version": 3,
     "solution": false
    }
   },
   "outputs": [],
   "source": [
    "#Tests\n",
    "assert f4('abc')=={'a': 1, 'b': 1, 'c': 1}\n",
    "assert f4('aabcbc')=={'a': 2, 'b': 2, 'c': 2}"
   ]
  },
  {
   "cell_type": "markdown",
   "metadata": {},
   "source": [
    "## Q5 (Optional)\n",
    "Now, let us come to the real question <br>\n",
    "\n",
    "HackTheBox really loves strings a lot but they likes palindromic strings more. Today, they took two strings <b>X</b> and <b>Y</b>, each consisting of lower case alphabets.\n",
    "\n",
    "Now they took a substring from X which is not empty let us say `x` and they took another substring from Y (which is again non empty) which is let us say `y` and then they did the concatenation of `x and y` and called it `z`\n",
    "Now they want to know whether this `z` is pallindrome or not <br><br>\n",
    "You will be given two string X and Y and return ```True``` if it possible to choose such string <b>z</b> else ```False```\n",
    "<div style=\"text-align: right\">-- 3 points </div>"
   ]
  },
  {
   "cell_type": "code",
   "execution_count": 16,
   "metadata": {
    "deletable": false,
    "nbgrader": {
     "cell_type": "code",
     "checksum": "0010729c6ffcbaef4058ce7eba92a3fa",
     "grade": false,
     "grade_id": "cell-7b8c5a1796c5b1fe",
     "locked": false,
     "schema_version": 3,
     "solution": true
    }
   },
   "outputs": [],
   "source": [
    "def f5(A,B): #A and B are strings\n",
    "    # You may use f4()\n",
    "    # YOUR CODE BELOW\n",
    "    letterCount = f4(A+B)\n",
    "    count_odd=0\n",
    "    \n",
    "    for i in letterCount.values():\n",
    "        if i%2!=0:\n",
    "            count_odd+=1\n",
    "            \n",
    "    if count_odd <=1:\n",
    "        return True\n",
    "    else:\n",
    "        return False\n",
    "    pass"
   ]
  },
  {
   "cell_type": "code",
   "execution_count": 17,
   "metadata": {
    "deletable": false,
    "editable": false,
    "nbgrader": {
     "cell_type": "code",
     "checksum": "9adac62c0d4a1f0e325ee6c20668286f",
     "grade": true,
     "grade_id": "cell-33cb3c0010494a5b",
     "locked": true,
     "points": 3,
     "schema_version": 3,
     "solution": false
    }
   },
   "outputs": [],
   "source": [
    "#Tests\n",
    "assert f5('abc','abc')==True\n",
    "assert f5('a','b')==False\n",
    "assert f5('abba','baab')==True"
   ]
  },
  {
   "cell_type": "markdown",
   "metadata": {},
   "source": [
    "## Q6\n",
    "You are given two integers a and b.\n",
    "\n",
    "In one move, you can choose some integer *k* from *1 to 10* and <b>add it to a or subtract it from a</b>. <br><br>In other words, you choose an integer k∈[1:10] and perform ```a=a + k``` or ```a = a − k```. You may use different values of k in different moves.\n",
    "\n",
    "Your task is to **return** the minimum number of moves required to obtain <em><b>b</b></em> from <em><b>a</b></em>.<br>\n",
    "\n",
    "<div style=\"font-size: 85%;\">PS: You may not need loops, may not</div>"
   ]
  },
  {
   "cell_type": "code",
   "execution_count": 18,
   "metadata": {
    "deletable": false,
    "nbgrader": {
     "cell_type": "code",
     "checksum": "1b2d5b13dbdff71f4ffd222766d3bfb9",
     "grade": false,
     "grade_id": "cell-c7e374efc2711302",
     "locked": false,
     "schema_version": 3,
     "solution": true
    }
   },
   "outputs": [],
   "source": [
    "def f6(a,b):\n",
    "    # YOUR CODE BELOW\n",
    "    c=abs(b-a)\n",
    "    if c%10 == 0:\n",
    "        return c//10\n",
    "    else:\n",
    "        return c//10 + 1\n",
    "    pass"
   ]
  },
  {
   "cell_type": "code",
   "execution_count": 19,
   "metadata": {
    "deletable": false,
    "editable": false,
    "nbgrader": {
     "cell_type": "code",
     "checksum": "53d095ee4b77d91043db5eb31647e478",
     "grade": true,
     "grade_id": "cell-24536de406e7c539",
     "locked": true,
     "points": 1,
     "schema_version": 3,
     "solution": false
    }
   },
   "outputs": [],
   "source": [
    "# Tests\n",
    "assert f6(5,5)==0    #nothing required\n",
    "assert f6(13,42)==3  #13→23→32→42  (add 10, add 9, add 10).\n",
    "assert f6(18,4)==2   #18→10→4  (subtract 8, subtract 6)"
   ]
  },
  {
   "cell_type": "markdown",
   "metadata": {
    "deletable": false,
    "editable": false,
    "nbgrader": {
     "cell_type": "markdown",
     "checksum": "92301549db5404b0351d8dce74ceb79f",
     "grade": false,
     "grade_id": "cell-9d166e3ec5989574",
     "locked": true,
     "schema_version": 3,
     "solution": false
    }
   },
   "source": [
    "## Q7\n",
    "HackTheBox can not get enough of strings. They took a string s and did this and gave you `encoded`\n",
    "```\n",
    "l=list(s)\n",
    "for i in range(len(l)):\n",
    "    l[i]=chr(ord(l[i])+i)\n",
    "encoded=\"\".join(l)\n",
    "```\n",
    "<br>Can you **return** the original string through `f7(encoded)`?<br>\n",
    "Read about ord() <a href=\"https://docs.python.org/3.4/library/functions.html?highlight=ord#ord\">From here</a><br>\n",
    "Read about chr() <a href=\"https://docs.python.org/3.4/library/functions.html?highlight=ord#chr\">From here</a>"
   ]
  },
  {
   "cell_type": "code",
   "execution_count": 20,
   "metadata": {
    "deletable": false,
    "nbgrader": {
     "cell_type": "code",
     "checksum": "6843c444a3baa2e80ecf2012452fef04",
     "grade": false,
     "grade_id": "cell-13867e36ce8ccbd0",
     "locked": false,
     "schema_version": 3,
     "solution": true
    }
   },
   "outputs": [],
   "source": [
    "def f7(encoded):\n",
    "    # YOUR CODE BELOW\n",
    "    l=list(encoded)\n",
    "    for i in range(len(l)):\n",
    "        l[i]=chr(ord(l[i])-i)\n",
    "    s=\"\".join(l)\n",
    "    return s\n",
    "    pass"
   ]
  },
  {
   "cell_type": "code",
   "execution_count": 21,
   "metadata": {
    "deletable": false,
    "editable": false,
    "nbgrader": {
     "cell_type": "code",
     "checksum": "7d628358f40495822fb9958a4b20671f",
     "grade": true,
     "grade_id": "cell-1d171295faece88a",
     "locked": true,
     "points": 1,
     "schema_version": 3,
     "solution": false
    }
   },
   "outputs": [],
   "source": [
    "# Tests\n",
    "assert f7(\"def\")==\"ddd\"   \n",
    "assert f7(\"sqcfittv~j\")==\"spaceonova\"\n",
    "assert f7(\"Pzvkss\")==\"Python\""
   ]
  },
  {
   "cell_type": "code",
   "execution_count": null,
   "metadata": {},
   "outputs": [],
   "source": []
  }
 ],
 "metadata": {
  "kernelspec": {
   "display_name": "Python 3",
   "language": "python",
   "name": "python3"
  },
  "language_info": {
   "codemirror_mode": {
    "name": "ipython",
    "version": 3
   },
   "file_extension": ".py",
   "mimetype": "text/x-python",
   "name": "python",
   "nbconvert_exporter": "python",
   "pygments_lexer": "ipython3",
   "version": "3.8.3"
  }
 },
 "nbformat": 4,
 "nbformat_minor": 2
}
